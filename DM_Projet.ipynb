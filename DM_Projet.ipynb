{
  "nbformat": 4,
  "nbformat_minor": 0,
  "metadata": {
    "colab": {
      "provenance": []
    },
    "kernelspec": {
      "name": "python3",
      "display_name": "Python 3"
    },
    "language_info": {
      "name": "python"
    }
  },
  "cells": [
    {
      "cell_type": "code",
      "execution_count": null,
      "metadata": {
        "id": "NkuKLDVs5IaS",
        "outputId": "cbf31f13-9d88-480d-947d-148073ab98ef",
        "colab": {
          "base_uri": "https://localhost:8080/"
        }
      },
      "outputs": [
        {
          "output_type": "stream",
          "name": "stdout",
          "text": [
            "<class 'pandas.core.frame.DataFrame'>\n",
            "RangeIndex: 10841 entries, 0 to 10840\n",
            "Data columns (total 13 columns):\n",
            " #   Column          Non-Null Count  Dtype  \n",
            "---  ------          --------------  -----  \n",
            " 0   App             10841 non-null  object \n",
            " 1   Category        10841 non-null  object \n",
            " 2   Rating          9367 non-null   float64\n",
            " 3   Reviews         10841 non-null  object \n",
            " 4   Size            10841 non-null  object \n",
            " 5   Installs        10841 non-null  object \n",
            " 6   Type            10840 non-null  object \n",
            " 7   Price           10841 non-null  object \n",
            " 8   Content Rating  10840 non-null  object \n",
            " 9   Genres          10841 non-null  object \n",
            " 10  Last Updated    10841 non-null  object \n",
            " 11  Current Ver     10833 non-null  object \n",
            " 12  Android Ver     10838 non-null  object \n",
            "dtypes: float64(1), object(12)\n",
            "memory usage: 1.1+ MB\n"
          ]
        }
      ],
      "source": [
        "import pandas as pd\n",
        "import sklearn\n",
        "import numpy as np\n",
        "\n",
        "df = pd.read_csv(\"/content/googleplaystore.csv\")\n",
        "df.info()"
      ]
    },
    {
      "cell_type": "markdown",
      "source": [
        "### Colonnes"
      ],
      "metadata": {
        "id": "79LsB6PMGpkF"
      }
    },
    {
      "cell_type": "markdown",
      "source": [
        "a première vue, il n'y a qu'une colonne qui contient des données numériques. L'idée est donc de vérifier quelles colonnes il serait possible de tranformer en données numériques afin d'avoir plus de matières pour les analyses suivantes\n"
      ],
      "metadata": {
        "id": "5EaLb-SHkIfp"
      }
    },
    {
      "cell_type": "markdown",
      "source": [
        "#### Size (ok)"
      ],
      "metadata": {
        "id": "Pcc7LO2RDVj0"
      }
    },
    {
      "cell_type": "code",
      "source": [
        "df[\"Size\"]"
      ],
      "metadata": {
        "colab": {
          "base_uri": "https://localhost:8080/"
        },
        "id": "MD3UMxAtkWtp",
        "outputId": "aed76ae4-d5d5-434e-9dfd-f7c207e80f6a"
      },
      "execution_count": null,
      "outputs": [
        {
          "output_type": "execute_result",
          "data": {
            "text/plain": [
              "0                       19M\n",
              "1                       14M\n",
              "2                      8.7M\n",
              "3                       25M\n",
              "4                      2.8M\n",
              "                ...        \n",
              "10836                   53M\n",
              "10837                  3.6M\n",
              "10838                  9.5M\n",
              "10839    Varies with device\n",
              "10840                   19M\n",
              "Name: Size, Length: 10841, dtype: object"
            ]
          },
          "metadata": {},
          "execution_count": 820
        }
      ]
    },
    {
      "cell_type": "markdown",
      "source": [
        "Dans le cas présent, Size est un objet, qui pourrait être convertis en une valeur numérique"
      ],
      "metadata": {
        "id": "LHZ_JoCvkn5p"
      }
    },
    {
      "cell_type": "markdown",
      "source": [
        "#### Category (ok)"
      ],
      "metadata": {
        "id": "FU8Eeeh-DXXs"
      }
    },
    {
      "cell_type": "code",
      "source": [
        "df[\"Category\"]"
      ],
      "metadata": {
        "id": "Mxx8D40vknk8",
        "colab": {
          "base_uri": "https://localhost:8080/"
        },
        "outputId": "609da384-62a5-40d5-c6d5-fe70868cd4b9"
      },
      "execution_count": null,
      "outputs": [
        {
          "output_type": "execute_result",
          "data": {
            "text/plain": [
              "0             ART_AND_DESIGN\n",
              "1             ART_AND_DESIGN\n",
              "2             ART_AND_DESIGN\n",
              "3             ART_AND_DESIGN\n",
              "4             ART_AND_DESIGN\n",
              "                ...         \n",
              "10836                 FAMILY\n",
              "10837                 FAMILY\n",
              "10838                MEDICAL\n",
              "10839    BOOKS_AND_REFERENCE\n",
              "10840              LIFESTYLE\n",
              "Name: Category, Length: 10841, dtype: object"
            ]
          },
          "metadata": {},
          "execution_count": 821
        }
      ]
    },
    {
      "cell_type": "markdown",
      "source": [
        "Category, pourrait être convertie en données numériques, par ex 1 pour ART_AND_DESIGN, 2 pour FAMILLY etc"
      ],
      "metadata": {
        "id": "h7RnD21flMTr"
      }
    },
    {
      "cell_type": "markdown",
      "source": [
        "#### Reviews (ok)"
      ],
      "metadata": {
        "id": "GBlC0th2DaSM"
      }
    },
    {
      "cell_type": "code",
      "source": [
        "df[\"Reviews\"]"
      ],
      "metadata": {
        "id": "4U40Gl9ElTdH",
        "colab": {
          "base_uri": "https://localhost:8080/"
        },
        "outputId": "bd9c8b3f-3afe-47e1-eaa2-282595ffc728"
      },
      "execution_count": null,
      "outputs": [
        {
          "output_type": "execute_result",
          "data": {
            "text/plain": [
              "0           159\n",
              "1           967\n",
              "2         87510\n",
              "3        215644\n",
              "4           967\n",
              "          ...  \n",
              "10836        38\n",
              "10837         4\n",
              "10838         3\n",
              "10839       114\n",
              "10840    398307\n",
              "Name: Reviews, Length: 10841, dtype: object"
            ]
          },
          "metadata": {},
          "execution_count": 822
        }
      ]
    },
    {
      "cell_type": "markdown",
      "source": [
        "Reviews correspond au nombre de reviews, il faut donc le convertir en valeur numérique"
      ],
      "metadata": {
        "id": "_lUQ-WWhlZ_P"
      }
    },
    {
      "cell_type": "markdown",
      "source": [
        "#### Installs (ok)"
      ],
      "metadata": {
        "id": "DhzF7mEjDdfB"
      }
    },
    {
      "cell_type": "code",
      "source": [
        "df['Installs'].unique()"
      ],
      "metadata": {
        "id": "gLGfPJZ-lhgS",
        "colab": {
          "base_uri": "https://localhost:8080/"
        },
        "outputId": "681acf2f-c03f-444a-9357-3c4d10929689"
      },
      "execution_count": null,
      "outputs": [
        {
          "output_type": "execute_result",
          "data": {
            "text/plain": [
              "array(['10,000+', '500,000+', '5,000,000+', '50,000,000+', '100,000+',\n",
              "       '50,000+', '1,000,000+', '10,000,000+', '5,000+', '100,000,000+',\n",
              "       '1,000,000,000+', '1,000+', '500,000,000+', '50+', '100+', '500+',\n",
              "       '10+', '1+', '5+', '0+', '0', 'Free'], dtype=object)"
            ]
          },
          "metadata": {},
          "execution_count": 823
        }
      ]
    },
    {
      "cell_type": "markdown",
      "source": [
        "Correspond au nombre d'installations (ordre de grandeur)\n",
        "Il suffit d'enlever le +"
      ],
      "metadata": {
        "id": "9d51wkPwlk6U"
      }
    },
    {
      "cell_type": "markdown",
      "source": [
        "#### Type (abandonnée)"
      ],
      "metadata": {
        "id": "45CH8mzdDfE8"
      }
    },
    {
      "cell_type": "code",
      "source": [
        "df['Type'].unique()"
      ],
      "metadata": {
        "id": "wMrY7Xxslo9O",
        "colab": {
          "base_uri": "https://localhost:8080/"
        },
        "outputId": "013d4cd5-9a80-45d5-b68f-27b2dc3e7a9c"
      },
      "execution_count": null,
      "outputs": [
        {
          "output_type": "execute_result",
          "data": {
            "text/plain": [
              "array(['Free', 'Paid', nan, '0'], dtype=object)"
            ]
          },
          "metadata": {},
          "execution_count": 824
        }
      ]
    },
    {
      "cell_type": "markdown",
      "source": [
        "Semble correspondre au type de l'aplication (payante ou non). Peut etre convertie en valeur booleenne permettant de determiner si une app est payante ou non\n",
        "\n"
      ],
      "metadata": {
        "id": "C3zkZcVMlue9"
      }
    },
    {
      "cell_type": "markdown",
      "source": [
        "#### Price (ok)"
      ],
      "metadata": {
        "id": "0s5ttKT2ETBH"
      }
    },
    {
      "cell_type": "code",
      "source": [
        "df[\"Price\"].unique()"
      ],
      "metadata": {
        "id": "2rwRLKI6lsoa",
        "colab": {
          "base_uri": "https://localhost:8080/"
        },
        "outputId": "0a0afd2f-f04d-4cd3-81c1-86cf86f2d00d"
      },
      "execution_count": null,
      "outputs": [
        {
          "output_type": "execute_result",
          "data": {
            "text/plain": [
              "array(['0', '$4.99', '$3.99', '$6.99', '$1.49', '$2.99', '$7.99', '$5.99',\n",
              "       '$3.49', '$1.99', '$9.99', '$7.49', '$0.99', '$9.00', '$5.49',\n",
              "       '$10.00', '$24.99', '$11.99', '$79.99', '$16.99', '$14.99',\n",
              "       '$1.00', '$29.99', '$12.99', '$2.49', '$10.99', '$1.50', '$19.99',\n",
              "       '$15.99', '$33.99', '$74.99', '$39.99', '$3.95', '$4.49', '$1.70',\n",
              "       '$8.99', '$2.00', '$3.88', '$25.99', '$399.99', '$17.99',\n",
              "       '$400.00', '$3.02', '$1.76', '$4.84', '$4.77', '$1.61', '$2.50',\n",
              "       '$1.59', '$6.49', '$1.29', '$5.00', '$13.99', '$299.99', '$379.99',\n",
              "       '$37.99', '$18.99', '$389.99', '$19.90', '$8.49', '$1.75',\n",
              "       '$14.00', '$4.85', '$46.99', '$109.99', '$154.99', '$3.08',\n",
              "       '$2.59', '$4.80', '$1.96', '$19.40', '$3.90', '$4.59', '$15.46',\n",
              "       '$3.04', '$4.29', '$2.60', '$3.28', '$4.60', '$28.99', '$2.95',\n",
              "       '$2.90', '$1.97', '$200.00', '$89.99', '$2.56', '$30.99', '$3.61',\n",
              "       '$394.99', '$1.26', 'Everyone', '$1.20', '$1.04'], dtype=object)"
            ]
          },
          "metadata": {},
          "execution_count": 825
        }
      ]
    },
    {
      "cell_type": "markdown",
      "source": [
        "Valeur numérique, il faut enlever le $$$$"
      ],
      "metadata": {
        "id": "3f5gZKT7mKqD"
      }
    },
    {
      "cell_type": "markdown",
      "source": [
        "#### Content Rating (ok)"
      ],
      "metadata": {
        "id": "QqGqHAMqEZOn"
      }
    },
    {
      "cell_type": "code",
      "source": [
        "df['Content Rating'].unique()"
      ],
      "metadata": {
        "id": "ucdYGWGImPSF",
        "colab": {
          "base_uri": "https://localhost:8080/"
        },
        "outputId": "5969b366-37d9-4bc6-8fe1-88d26304753a"
      },
      "execution_count": null,
      "outputs": [
        {
          "output_type": "execute_result",
          "data": {
            "text/plain": [
              "array(['Everyone', 'Teen', 'Everyone 10+', 'Mature 17+',\n",
              "       'Adults only 18+', 'Unrated', nan], dtype=object)"
            ]
          },
          "metadata": {},
          "execution_count": 826
        }
      ]
    },
    {
      "cell_type": "markdown",
      "source": [
        "on peut transformer tout ca en une valeur numérique\n",
        "\n"
      ],
      "metadata": {
        "id": "7eadc5CamXEn"
      }
    },
    {
      "cell_type": "markdown",
      "source": [
        "#### Genres (ok)"
      ],
      "metadata": {
        "id": "Lusm0QexEelK"
      }
    },
    {
      "cell_type": "code",
      "source": [
        "df[\"Genres\"].unique()"
      ],
      "metadata": {
        "id": "W5DEP1gqmhp5",
        "colab": {
          "base_uri": "https://localhost:8080/"
        },
        "outputId": "b9e4c035-6faa-4d4d-de92-c33331573f0e"
      },
      "execution_count": null,
      "outputs": [
        {
          "output_type": "execute_result",
          "data": {
            "text/plain": [
              "array(['Art & Design', 'Art & Design;Pretend Play',\n",
              "       'Art & Design;Creativity', 'Art & Design;Action & Adventure',\n",
              "       'Auto & Vehicles', 'Beauty', 'Books & Reference', 'Business',\n",
              "       'Comics', 'Comics;Creativity', 'Communication', 'Dating',\n",
              "       'Education;Education', 'Education', 'Education;Creativity',\n",
              "       'Education;Music & Video', 'Education;Action & Adventure',\n",
              "       'Education;Pretend Play', 'Education;Brain Games', 'Entertainment',\n",
              "       'Entertainment;Music & Video', 'Entertainment;Brain Games',\n",
              "       'Entertainment;Creativity', 'Events', 'Finance', 'Food & Drink',\n",
              "       'Health & Fitness', 'House & Home', 'Libraries & Demo',\n",
              "       'Lifestyle', 'Lifestyle;Pretend Play',\n",
              "       'Adventure;Action & Adventure', 'Arcade', 'Casual', 'Card',\n",
              "       'Casual;Pretend Play', 'Action', 'Strategy', 'Puzzle', 'Sports',\n",
              "       'Music', 'Word', 'Racing', 'Casual;Creativity',\n",
              "       'Casual;Action & Adventure', 'Simulation', 'Adventure', 'Board',\n",
              "       'Trivia', 'Role Playing', 'Simulation;Education',\n",
              "       'Action;Action & Adventure', 'Casual;Brain Games',\n",
              "       'Simulation;Action & Adventure', 'Educational;Creativity',\n",
              "       'Puzzle;Brain Games', 'Educational;Education', 'Card;Brain Games',\n",
              "       'Educational;Brain Games', 'Educational;Pretend Play',\n",
              "       'Entertainment;Education', 'Casual;Education',\n",
              "       'Music;Music & Video', 'Racing;Action & Adventure',\n",
              "       'Arcade;Pretend Play', 'Role Playing;Action & Adventure',\n",
              "       'Simulation;Pretend Play', 'Puzzle;Creativity',\n",
              "       'Sports;Action & Adventure', 'Educational;Action & Adventure',\n",
              "       'Arcade;Action & Adventure', 'Entertainment;Action & Adventure',\n",
              "       'Puzzle;Action & Adventure', 'Strategy;Action & Adventure',\n",
              "       'Music & Audio;Music & Video', 'Health & Fitness;Education',\n",
              "       'Adventure;Education', 'Board;Brain Games',\n",
              "       'Board;Action & Adventure', 'Board;Pretend Play',\n",
              "       'Casual;Music & Video', 'Role Playing;Pretend Play',\n",
              "       'Entertainment;Pretend Play', 'Video Players & Editors;Creativity',\n",
              "       'Card;Action & Adventure', 'Medical', 'Social', 'Shopping',\n",
              "       'Photography', 'Travel & Local',\n",
              "       'Travel & Local;Action & Adventure', 'Tools', 'Tools;Education',\n",
              "       'Personalization', 'Productivity', 'Parenting',\n",
              "       'Parenting;Music & Video', 'Parenting;Education',\n",
              "       'Parenting;Brain Games', 'Weather', 'Video Players & Editors',\n",
              "       'Video Players & Editors;Music & Video', 'News & Magazines',\n",
              "       'Maps & Navigation', 'Health & Fitness;Action & Adventure',\n",
              "       'Educational', 'Casino', 'Adventure;Brain Games',\n",
              "       'Trivia;Education', 'Lifestyle;Education',\n",
              "       'Books & Reference;Creativity', 'Books & Reference;Education',\n",
              "       'Puzzle;Education', 'Role Playing;Education',\n",
              "       'Role Playing;Brain Games', 'Strategy;Education',\n",
              "       'Racing;Pretend Play', 'Communication;Creativity',\n",
              "       'February 11, 2018', 'Strategy;Creativity'], dtype=object)"
            ]
          },
          "metadata": {},
          "execution_count": 827
        }
      ]
    },
    {
      "cell_type": "markdown",
      "source": [
        "a voir"
      ],
      "metadata": {
        "id": "k463xMoMmqbe"
      }
    },
    {
      "cell_type": "markdown",
      "source": [
        "#### Last Updated (ok)"
      ],
      "metadata": {
        "id": "OXPyx9IJEhH0"
      }
    },
    {
      "cell_type": "code",
      "source": [
        "df[\"Last Updated\"]"
      ],
      "metadata": {
        "id": "dVIHil4Pmv7N",
        "colab": {
          "base_uri": "https://localhost:8080/"
        },
        "outputId": "523db936-bd72-46e4-d4f0-fadc6f6a71d0"
      },
      "execution_count": null,
      "outputs": [
        {
          "output_type": "execute_result",
          "data": {
            "text/plain": [
              "0         January 7, 2018\n",
              "1        January 15, 2018\n",
              "2          August 1, 2018\n",
              "3            June 8, 2018\n",
              "4           June 20, 2018\n",
              "               ...       \n",
              "10836       July 25, 2017\n",
              "10837        July 6, 2018\n",
              "10838    January 20, 2017\n",
              "10839    January 19, 2015\n",
              "10840       July 25, 2018\n",
              "Name: Last Updated, Length: 10841, dtype: object"
            ]
          },
          "metadata": {},
          "execution_count": 828
        }
      ]
    },
    {
      "cell_type": "markdown",
      "source": [
        "#### Current Ver (abandonnée)"
      ],
      "metadata": {
        "id": "S1KkEKQPEjqS"
      }
    },
    {
      "cell_type": "code",
      "source": [
        "df[\"Current Ver\"]"
      ],
      "metadata": {
        "id": "g1Dzo8L6m1M-",
        "colab": {
          "base_uri": "https://localhost:8080/"
        },
        "outputId": "826134d5-6b09-42d4-8a39-c0c8e3c85f08"
      },
      "execution_count": null,
      "outputs": [
        {
          "output_type": "execute_result",
          "data": {
            "text/plain": [
              "0                     1.0.0\n",
              "1                     2.0.0\n",
              "2                     1.2.4\n",
              "3        Varies with device\n",
              "4                       1.1\n",
              "                ...        \n",
              "10836                  1.48\n",
              "10837                   1.0\n",
              "10838                   1.0\n",
              "10839    Varies with device\n",
              "10840    Varies with device\n",
              "Name: Current Ver, Length: 10841, dtype: object"
            ]
          },
          "metadata": {},
          "execution_count": 829
        }
      ]
    },
    {
      "cell_type": "markdown",
      "source": [
        "#### Android Ver"
      ],
      "metadata": {
        "id": "WQJymoAbEmD4"
      }
    },
    {
      "cell_type": "code",
      "source": [
        "from pprint import pprint\n",
        "pprint(df[\"Android Ver\"].unique())\n",
        "print(df[\"Android Ver\"].isna().sum())\n",
        "print(df[\"Android Ver\"].isnull().sum())"
      ],
      "metadata": {
        "id": "ih-yevr2m4OL",
        "colab": {
          "base_uri": "https://localhost:8080/"
        },
        "outputId": "82f1f240-ec59-453e-ef33-0348a5566c01"
      },
      "execution_count": null,
      "outputs": [
        {
          "output_type": "stream",
          "name": "stdout",
          "text": [
            "array(['4.0.3 and up', '4.2 and up', '4.4 and up', '2.3 and up',\n",
            "       '3.0 and up', '4.1 and up', '4.0 and up', '2.3.3 and up',\n",
            "       'Varies with device', '2.2 and up', '5.0 and up', '6.0 and up',\n",
            "       '1.6 and up', '1.5 and up', '2.1 and up', '7.0 and up',\n",
            "       '5.1 and up', '4.3 and up', '4.0.3 - 7.1.1', '2.0 and up',\n",
            "       '3.2 and up', '4.4W and up', '7.1 and up', '7.0 - 7.1.1',\n",
            "       '8.0 and up', '5.0 - 8.0', '3.1 and up', '2.0.1 and up',\n",
            "       '4.1 - 7.1.1', nan, '5.0 - 6.0', '1.0 and up', '2.2 - 7.1.1',\n",
            "       '5.0 - 7.1.1'], dtype=object)\n",
            "3\n",
            "3\n"
          ]
        }
      ]
    },
    {
      "cell_type": "code",
      "source": [
        "df[\"Android Ver\"] = df[\"Android Ver\"].replace(\"and up\", 'and_up', regex=True)\n",
        "df[\"Android Ver\"] = df[\"Android Ver\"].replace(\" - \", ' ', regex=True)\n",
        "df[\"Android Ver\"] = df[\"Android Ver\"].replace(\"Varies with device\", '', regex=True)\n",
        "\n",
        "df[[\"Android Ver\", \"Android Ver Max\"]] = df[\"Android Ver\"].str.split(\" \", expand=True)\n",
        "df = df.rename(columns={\"Android Ver\" : \"Android Ver Min\"})"
      ],
      "metadata": {
        "colab": {
          "base_uri": "https://localhost:8080/",
          "height": 511
        },
        "id": "gV5boup6QcT4",
        "outputId": "859ff098-139a-4511-8865-2818791f821f"
      },
      "execution_count": null,
      "outputs": [
        {
          "output_type": "error",
          "ename": "KeyError",
          "evalue": "ignored",
          "traceback": [
            "\u001b[0;31m---------------------------------------------------------------------------\u001b[0m",
            "\u001b[0;31mKeyError\u001b[0m                                  Traceback (most recent call last)",
            "\u001b[0;32m/usr/local/lib/python3.10/dist-packages/pandas/core/indexes/base.py\u001b[0m in \u001b[0;36mget_loc\u001b[0;34m(self, key, method, tolerance)\u001b[0m\n\u001b[1;32m   3801\u001b[0m             \u001b[0;32mtry\u001b[0m\u001b[0;34m:\u001b[0m\u001b[0;34m\u001b[0m\u001b[0;34m\u001b[0m\u001b[0m\n\u001b[0;32m-> 3802\u001b[0;31m                 \u001b[0;32mreturn\u001b[0m \u001b[0mself\u001b[0m\u001b[0;34m.\u001b[0m\u001b[0m_engine\u001b[0m\u001b[0;34m.\u001b[0m\u001b[0mget_loc\u001b[0m\u001b[0;34m(\u001b[0m\u001b[0mcasted_key\u001b[0m\u001b[0;34m)\u001b[0m\u001b[0;34m\u001b[0m\u001b[0;34m\u001b[0m\u001b[0m\n\u001b[0m\u001b[1;32m   3803\u001b[0m             \u001b[0;32mexcept\u001b[0m \u001b[0mKeyError\u001b[0m \u001b[0;32mas\u001b[0m \u001b[0merr\u001b[0m\u001b[0;34m:\u001b[0m\u001b[0;34m\u001b[0m\u001b[0;34m\u001b[0m\u001b[0m\n",
            "\u001b[0;32m/usr/local/lib/python3.10/dist-packages/pandas/_libs/index.pyx\u001b[0m in \u001b[0;36mpandas._libs.index.IndexEngine.get_loc\u001b[0;34m()\u001b[0m\n",
            "\u001b[0;32m/usr/local/lib/python3.10/dist-packages/pandas/_libs/index.pyx\u001b[0m in \u001b[0;36mpandas._libs.index.IndexEngine.get_loc\u001b[0;34m()\u001b[0m\n",
            "\u001b[0;32mpandas/_libs/hashtable_class_helper.pxi\u001b[0m in \u001b[0;36mpandas._libs.hashtable.PyObjectHashTable.get_item\u001b[0;34m()\u001b[0m\n",
            "\u001b[0;32mpandas/_libs/hashtable_class_helper.pxi\u001b[0m in \u001b[0;36mpandas._libs.hashtable.PyObjectHashTable.get_item\u001b[0;34m()\u001b[0m\n",
            "\u001b[0;31mKeyError\u001b[0m: 'Android Ver'",
            "\nThe above exception was the direct cause of the following exception:\n",
            "\u001b[0;31mKeyError\u001b[0m                                  Traceback (most recent call last)",
            "\u001b[0;32m<ipython-input-5-8940d707a5e9>\u001b[0m in \u001b[0;36m<cell line: 1>\u001b[0;34m()\u001b[0m\n\u001b[0;32m----> 1\u001b[0;31m \u001b[0mdf\u001b[0m\u001b[0;34m[\u001b[0m\u001b[0;34m\"Android Ver\"\u001b[0m\u001b[0;34m]\u001b[0m \u001b[0;34m=\u001b[0m \u001b[0mdf\u001b[0m\u001b[0;34m[\u001b[0m\u001b[0;34m\"Android Ver\"\u001b[0m\u001b[0;34m]\u001b[0m\u001b[0;34m.\u001b[0m\u001b[0mreplace\u001b[0m\u001b[0;34m(\u001b[0m\u001b[0;34m\"and up\"\u001b[0m\u001b[0;34m,\u001b[0m \u001b[0;34m'and_up'\u001b[0m\u001b[0;34m,\u001b[0m \u001b[0mregex\u001b[0m\u001b[0;34m=\u001b[0m\u001b[0;32mTrue\u001b[0m\u001b[0;34m)\u001b[0m\u001b[0;34m\u001b[0m\u001b[0;34m\u001b[0m\u001b[0m\n\u001b[0m\u001b[1;32m      2\u001b[0m \u001b[0mdf\u001b[0m\u001b[0;34m[\u001b[0m\u001b[0;34m\"Android Ver\"\u001b[0m\u001b[0;34m]\u001b[0m \u001b[0;34m=\u001b[0m \u001b[0mdf\u001b[0m\u001b[0;34m[\u001b[0m\u001b[0;34m\"Android Ver\"\u001b[0m\u001b[0;34m]\u001b[0m\u001b[0;34m.\u001b[0m\u001b[0mreplace\u001b[0m\u001b[0;34m(\u001b[0m\u001b[0;34m\" - \"\u001b[0m\u001b[0;34m,\u001b[0m \u001b[0;34m' '\u001b[0m\u001b[0;34m,\u001b[0m \u001b[0mregex\u001b[0m\u001b[0;34m=\u001b[0m\u001b[0;32mTrue\u001b[0m\u001b[0;34m)\u001b[0m\u001b[0;34m\u001b[0m\u001b[0;34m\u001b[0m\u001b[0m\n\u001b[1;32m      3\u001b[0m \u001b[0mdf\u001b[0m\u001b[0;34m[\u001b[0m\u001b[0;34m\"Android Ver\"\u001b[0m\u001b[0;34m]\u001b[0m \u001b[0;34m=\u001b[0m \u001b[0mdf\u001b[0m\u001b[0;34m[\u001b[0m\u001b[0;34m\"Android Ver\"\u001b[0m\u001b[0;34m]\u001b[0m\u001b[0;34m.\u001b[0m\u001b[0mreplace\u001b[0m\u001b[0;34m(\u001b[0m\u001b[0;34m\"Varies with device\"\u001b[0m\u001b[0;34m,\u001b[0m \u001b[0;34m''\u001b[0m\u001b[0;34m,\u001b[0m \u001b[0mregex\u001b[0m\u001b[0;34m=\u001b[0m\u001b[0;32mTrue\u001b[0m\u001b[0;34m)\u001b[0m\u001b[0;34m\u001b[0m\u001b[0;34m\u001b[0m\u001b[0m\n\u001b[1;32m      4\u001b[0m \u001b[0;34m\u001b[0m\u001b[0m\n\u001b[1;32m      5\u001b[0m \u001b[0mdf\u001b[0m\u001b[0;34m[\u001b[0m\u001b[0;34m[\u001b[0m\u001b[0;34m\"Android Ver\"\u001b[0m\u001b[0;34m,\u001b[0m \u001b[0;34m\"Android Ver Max\"\u001b[0m\u001b[0;34m]\u001b[0m\u001b[0;34m]\u001b[0m \u001b[0;34m=\u001b[0m \u001b[0mdf\u001b[0m\u001b[0;34m[\u001b[0m\u001b[0;34m\"Android Ver\"\u001b[0m\u001b[0;34m]\u001b[0m\u001b[0;34m.\u001b[0m\u001b[0mstr\u001b[0m\u001b[0;34m.\u001b[0m\u001b[0msplit\u001b[0m\u001b[0;34m(\u001b[0m\u001b[0;34m\" \"\u001b[0m\u001b[0;34m,\u001b[0m \u001b[0mexpand\u001b[0m\u001b[0;34m=\u001b[0m\u001b[0;32mTrue\u001b[0m\u001b[0;34m)\u001b[0m\u001b[0;34m\u001b[0m\u001b[0;34m\u001b[0m\u001b[0m\n",
            "\u001b[0;32m/usr/local/lib/python3.10/dist-packages/pandas/core/frame.py\u001b[0m in \u001b[0;36m__getitem__\u001b[0;34m(self, key)\u001b[0m\n\u001b[1;32m   3805\u001b[0m             \u001b[0;32mif\u001b[0m \u001b[0mself\u001b[0m\u001b[0;34m.\u001b[0m\u001b[0mcolumns\u001b[0m\u001b[0;34m.\u001b[0m\u001b[0mnlevels\u001b[0m \u001b[0;34m>\u001b[0m \u001b[0;36m1\u001b[0m\u001b[0;34m:\u001b[0m\u001b[0;34m\u001b[0m\u001b[0;34m\u001b[0m\u001b[0m\n\u001b[1;32m   3806\u001b[0m                 \u001b[0;32mreturn\u001b[0m \u001b[0mself\u001b[0m\u001b[0;34m.\u001b[0m\u001b[0m_getitem_multilevel\u001b[0m\u001b[0;34m(\u001b[0m\u001b[0mkey\u001b[0m\u001b[0;34m)\u001b[0m\u001b[0;34m\u001b[0m\u001b[0;34m\u001b[0m\u001b[0m\n\u001b[0;32m-> 3807\u001b[0;31m             \u001b[0mindexer\u001b[0m \u001b[0;34m=\u001b[0m \u001b[0mself\u001b[0m\u001b[0;34m.\u001b[0m\u001b[0mcolumns\u001b[0m\u001b[0;34m.\u001b[0m\u001b[0mget_loc\u001b[0m\u001b[0;34m(\u001b[0m\u001b[0mkey\u001b[0m\u001b[0;34m)\u001b[0m\u001b[0;34m\u001b[0m\u001b[0;34m\u001b[0m\u001b[0m\n\u001b[0m\u001b[1;32m   3808\u001b[0m             \u001b[0;32mif\u001b[0m \u001b[0mis_integer\u001b[0m\u001b[0;34m(\u001b[0m\u001b[0mindexer\u001b[0m\u001b[0;34m)\u001b[0m\u001b[0;34m:\u001b[0m\u001b[0;34m\u001b[0m\u001b[0;34m\u001b[0m\u001b[0m\n\u001b[1;32m   3809\u001b[0m                 \u001b[0mindexer\u001b[0m \u001b[0;34m=\u001b[0m \u001b[0;34m[\u001b[0m\u001b[0mindexer\u001b[0m\u001b[0;34m]\u001b[0m\u001b[0;34m\u001b[0m\u001b[0;34m\u001b[0m\u001b[0m\n",
            "\u001b[0;32m/usr/local/lib/python3.10/dist-packages/pandas/core/indexes/base.py\u001b[0m in \u001b[0;36mget_loc\u001b[0;34m(self, key, method, tolerance)\u001b[0m\n\u001b[1;32m   3802\u001b[0m                 \u001b[0;32mreturn\u001b[0m \u001b[0mself\u001b[0m\u001b[0;34m.\u001b[0m\u001b[0m_engine\u001b[0m\u001b[0;34m.\u001b[0m\u001b[0mget_loc\u001b[0m\u001b[0;34m(\u001b[0m\u001b[0mcasted_key\u001b[0m\u001b[0;34m)\u001b[0m\u001b[0;34m\u001b[0m\u001b[0;34m\u001b[0m\u001b[0m\n\u001b[1;32m   3803\u001b[0m             \u001b[0;32mexcept\u001b[0m \u001b[0mKeyError\u001b[0m \u001b[0;32mas\u001b[0m \u001b[0merr\u001b[0m\u001b[0;34m:\u001b[0m\u001b[0;34m\u001b[0m\u001b[0;34m\u001b[0m\u001b[0m\n\u001b[0;32m-> 3804\u001b[0;31m                 \u001b[0;32mraise\u001b[0m \u001b[0mKeyError\u001b[0m\u001b[0;34m(\u001b[0m\u001b[0mkey\u001b[0m\u001b[0;34m)\u001b[0m \u001b[0;32mfrom\u001b[0m \u001b[0merr\u001b[0m\u001b[0;34m\u001b[0m\u001b[0;34m\u001b[0m\u001b[0m\n\u001b[0m\u001b[1;32m   3805\u001b[0m             \u001b[0;32mexcept\u001b[0m \u001b[0mTypeError\u001b[0m\u001b[0;34m:\u001b[0m\u001b[0;34m\u001b[0m\u001b[0;34m\u001b[0m\u001b[0m\n\u001b[1;32m   3806\u001b[0m                 \u001b[0;31m# If we have a listlike key, _check_indexing_error will raise\u001b[0m\u001b[0;34m\u001b[0m\u001b[0;34m\u001b[0m\u001b[0m\n",
            "\u001b[0;31mKeyError\u001b[0m: 'Android Ver'"
          ]
        }
      ]
    },
    {
      "cell_type": "code",
      "source": [
        "print(df[df[\"Android Ver Min\"]==''])"
      ],
      "metadata": {
        "colab": {
          "base_uri": "https://localhost:8080/"
        },
        "id": "_bOccWwWt6Sx",
        "outputId": "beba4d87-3b4d-46eb-f3ca-c4abe1004a1b"
      },
      "execution_count": null,
      "outputs": [
        {
          "output_type": "stream",
          "name": "stdout",
          "text": [
            "                                                     App             Category  \\\n",
            "42                            Textgram - write on photos       ART_AND_DESIGN   \n",
            "52                         Used Cars and Trucks for Sale    AUTO_AND_VEHICLES   \n",
            "67                                    Ulysse Speedometer    AUTO_AND_VEHICLES   \n",
            "68                                                REPUVE    AUTO_AND_VEHICLES   \n",
            "85     CarMax – Cars for Sale: Search Used Car Inventory    AUTO_AND_VEHICLES   \n",
            "...                                                  ...                  ...   \n",
            "10713  My Earthquake Alerts - US & Worldwide Earthquakes              WEATHER   \n",
            "10765                    Chat For Strangers - Video Chat               SOCIAL   \n",
            "10826          Frim: get new friends on local chat rooms               SOCIAL   \n",
            "10839                      The SCP Foundation DB fr nn5n  BOOKS_AND_REFERENCE   \n",
            "10840      iHoroscope - 2018 Daily Horoscope & Astrology            LIFESTYLE   \n",
            "\n",
            "       Rating Reviews                Size     Installs  Type Price  \\\n",
            "42        4.4  295221  Varies with device  10,000,000+  Free     0   \n",
            "52        4.6   17057  Varies with device   1,000,000+  Free     0   \n",
            "67        4.3   40211  Varies with device   5,000,000+  Free     0   \n",
            "68        3.9     356  Varies with device     100,000+  Free     0   \n",
            "85        4.4   21777  Varies with device   1,000,000+  Free     0   \n",
            "...       ...     ...                 ...          ...   ...   ...   \n",
            "10713     4.4    3471  Varies with device     100,000+  Free     0   \n",
            "10765     3.4     622  Varies with device     100,000+  Free     0   \n",
            "10826     4.0   88486  Varies with device   5,000,000+  Free     0   \n",
            "10839     4.5     114  Varies with device       1,000+  Free     0   \n",
            "10840     4.5  398307                 19M  10,000,000+  Free     0   \n",
            "\n",
            "      Content Rating             Genres      Last Updated         Current Ver  \\\n",
            "42          Everyone       Art & Design     July 30, 2018  Varies with device   \n",
            "52          Everyone    Auto & Vehicles     July 30, 2018  Varies with device   \n",
            "67          Everyone    Auto & Vehicles     July 30, 2018  Varies with device   \n",
            "68          Everyone    Auto & Vehicles      May 25, 2018  Varies with device   \n",
            "85          Everyone    Auto & Vehicles    August 4, 2018  Varies with device   \n",
            "...              ...                ...               ...                 ...   \n",
            "10713       Everyone            Weather     July 24, 2018  Varies with device   \n",
            "10765     Mature 17+             Social      May 23, 2018  Varies with device   \n",
            "10826     Mature 17+             Social    March 23, 2018  Varies with device   \n",
            "10839     Mature 17+  Books & Reference  January 19, 2015  Varies with device   \n",
            "10840       Everyone          Lifestyle     July 25, 2018  Varies with device   \n",
            "\n",
            "      Android Ver Min Android Ver Max  \n",
            "42                               None  \n",
            "52                               None  \n",
            "67                               None  \n",
            "68                               None  \n",
            "85                               None  \n",
            "...               ...             ...  \n",
            "10713                            None  \n",
            "10765                            None  \n",
            "10826                            None  \n",
            "10839                            None  \n",
            "10840                            None  \n",
            "\n",
            "[1362 rows x 14 columns]\n"
          ]
        }
      ]
    },
    {
      "cell_type": "markdown",
      "source": [
        "### Suppression des colonnes non numériques"
      ],
      "metadata": {
        "id": "ddE0T-vGsWWs"
      }
    },
    {
      "cell_type": "code",
      "source": [
        "#df = df.drop(columns=[\"color\", \"type\", \"condition\"])\n",
        "df.info()"
      ],
      "metadata": {
        "colab": {
          "base_uri": "https://localhost:8080/"
        },
        "id": "oz3AEbUJsHzE",
        "outputId": "08f88013-023d-4507-d942-51e4bcef1be7"
      },
      "execution_count": null,
      "outputs": [
        {
          "output_type": "stream",
          "name": "stdout",
          "text": [
            "<class 'pandas.core.frame.DataFrame'>\n",
            "RangeIndex: 10841 entries, 0 to 10840\n",
            "Data columns (total 13 columns):\n",
            " #   Column          Non-Null Count  Dtype  \n",
            "---  ------          --------------  -----  \n",
            " 0   App             10841 non-null  object \n",
            " 1   Category        10841 non-null  object \n",
            " 2   Rating          9367 non-null   float64\n",
            " 3   Reviews         10841 non-null  object \n",
            " 4   Size            10841 non-null  object \n",
            " 5   Installs        10841 non-null  object \n",
            " 6   Type            10840 non-null  object \n",
            " 7   Price           10841 non-null  object \n",
            " 8   Content Rating  10840 non-null  object \n",
            " 9   Genres          10841 non-null  object \n",
            " 10  Last Updated    10841 non-null  object \n",
            " 11  Current Ver     10833 non-null  object \n",
            " 12  Android Ver     10838 non-null  object \n",
            "dtypes: float64(1), object(12)\n",
            "memory usage: 1.1+ MB\n"
          ]
        }
      ]
    },
    {
      "cell_type": "markdown",
      "source": [
        "### Conversion des colonnes en numérique"
      ],
      "metadata": {
        "id": "kKsY6ZgXsahy"
      }
    },
    {
      "cell_type": "code",
      "source": [
        "# df[\"Colonne\"] = pd.to_numeric(df_cars[\"Colonne\"], errors=\"coerce\")"
      ],
      "metadata": {
        "id": "KQVqublksiqG"
      },
      "execution_count": null,
      "outputs": []
    },
    {
      "cell_type": "code",
      "source": [
        "def col_to_num(col):\n",
        "  df[col] = pd.to_numeric(df[col], errors=\"coerce\")\n",
        "  print(df[col])"
      ],
      "metadata": {
        "id": "9O5eiff5wJNB"
      },
      "execution_count": null,
      "outputs": []
    },
    {
      "cell_type": "markdown",
      "source": [
        "#### Colonne \"Size\" (à faire)"
      ],
      "metadata": {
        "id": "EzxsaOHVv3yP"
      }
    },
    {
      "cell_type": "code",
      "source": [
        "print(df[\"Size\"].unique())"
      ],
      "metadata": {
        "colab": {
          "base_uri": "https://localhost:8080/"
        },
        "id": "YFZ6U-thxtar",
        "outputId": "682aec05-1caa-478e-be58-93eff6fc5eef"
      },
      "execution_count": null,
      "outputs": [
        {
          "output_type": "stream",
          "name": "stdout",
          "text": [
            "['19M' '14M' '8.7M' '25M' '2.8M' '5.6M' '29M' '33M' '3.1M' '28M' '12M'\n",
            " '20M' '21M' '37M' '2.7M' '5.5M' '17M' '39M' '31M' '4.2M' '7.0M' '23M'\n",
            " '6.0M' '6.1M' '4.6M' '9.2M' '5.2M' '11M' '24M' 'Varies with device'\n",
            " '9.4M' '15M' '10M' '1.2M' '26M' '8.0M' '7.9M' '56M' '57M' '35M' '54M'\n",
            " '201k' '3.6M' '5.7M' '8.6M' '2.4M' '27M' '2.5M' '16M' '3.4M' '8.9M'\n",
            " '3.9M' '2.9M' '38M' '32M' '5.4M' '18M' '1.1M' '2.2M' '4.5M' '9.8M' '52M'\n",
            " '9.0M' '6.7M' '30M' '2.6M' '7.1M' '3.7M' '22M' '7.4M' '6.4M' '3.2M'\n",
            " '8.2M' '9.9M' '4.9M' '9.5M' '5.0M' '5.9M' '13M' '73M' '6.8M' '3.5M'\n",
            " '4.0M' '2.3M' '7.2M' '2.1M' '42M' '7.3M' '9.1M' '55M' '23k' '6.5M' '1.5M'\n",
            " '7.5M' '51M' '41M' '48M' '8.5M' '46M' '8.3M' '4.3M' '4.7M' '3.3M' '40M'\n",
            " '7.8M' '8.8M' '6.6M' '5.1M' '61M' '66M' '79k' '8.4M' '118k' '44M' '695k'\n",
            " '1.6M' '6.2M' '18k' '53M' '1.4M' '3.0M' '5.8M' '3.8M' '9.6M' '45M' '63M'\n",
            " '49M' '77M' '4.4M' '4.8M' '70M' '6.9M' '9.3M' '10.0M' '8.1M' '36M' '84M'\n",
            " '97M' '2.0M' '1.9M' '1.8M' '5.3M' '47M' '556k' '526k' '76M' '7.6M' '59M'\n",
            " '9.7M' '78M' '72M' '43M' '7.7M' '6.3M' '334k' '34M' '93M' '65M' '79M'\n",
            " '100M' '58M' '50M' '68M' '64M' '67M' '60M' '94M' '232k' '99M' '624k'\n",
            " '95M' '8.5k' '41k' '292k' '11k' '80M' '1.7M' '74M' '62M' '69M' '75M'\n",
            " '98M' '85M' '82M' '96M' '87M' '71M' '86M' '91M' '81M' '92M' '83M' '88M'\n",
            " '704k' '862k' '899k' '378k' '266k' '375k' '1.3M' '975k' '980k' '4.1M'\n",
            " '89M' '696k' '544k' '525k' '920k' '779k' '853k' '720k' '713k' '772k'\n",
            " '318k' '58k' '241k' '196k' '857k' '51k' '953k' '865k' '251k' '930k'\n",
            " '540k' '313k' '746k' '203k' '26k' '314k' '239k' '371k' '220k' '730k'\n",
            " '756k' '91k' '293k' '17k' '74k' '14k' '317k' '78k' '924k' '902k' '818k'\n",
            " '81k' '939k' '169k' '45k' '475k' '965k' '90M' '545k' '61k' '283k' '655k'\n",
            " '714k' '93k' '872k' '121k' '322k' '1.0M' '976k' '172k' '238k' '549k'\n",
            " '206k' '954k' '444k' '717k' '210k' '609k' '308k' '705k' '306k' '904k'\n",
            " '473k' '175k' '350k' '383k' '454k' '421k' '70k' '812k' '442k' '842k'\n",
            " '417k' '412k' '459k' '478k' '335k' '782k' '721k' '430k' '429k' '192k'\n",
            " '200k' '460k' '728k' '496k' '816k' '414k' '506k' '887k' '613k' '243k'\n",
            " '569k' '778k' '683k' '592k' '319k' '186k' '840k' '647k' '191k' '373k'\n",
            " '437k' '598k' '716k' '585k' '982k' '222k' '219k' '55k' '948k' '323k'\n",
            " '691k' '511k' '951k' '963k' '25k' '554k' '351k' '27k' '82k' '208k' '913k'\n",
            " '514k' '551k' '29k' '103k' '898k' '743k' '116k' '153k' '209k' '353k'\n",
            " '499k' '173k' '597k' '809k' '122k' '411k' '400k' '801k' '787k' '237k'\n",
            " '50k' '643k' '986k' '97k' '516k' '837k' '780k' '961k' '269k' '20k' '498k'\n",
            " '600k' '749k' '642k' '881k' '72k' '656k' '601k' '221k' '228k' '108k'\n",
            " '940k' '176k' '33k' '663k' '34k' '942k' '259k' '164k' '458k' '245k'\n",
            " '629k' '28k' '288k' '775k' '785k' '636k' '916k' '994k' '309k' '485k'\n",
            " '914k' '903k' '608k' '500k' '54k' '562k' '847k' '957k' '688k' '811k'\n",
            " '270k' '48k' '329k' '523k' '921k' '874k' '981k' '784k' '280k' '24k'\n",
            " '518k' '754k' '892k' '154k' '860k' '364k' '387k' '626k' '161k' '879k'\n",
            " '39k' '970k' '170k' '141k' '160k' '144k' '143k' '190k' '376k' '193k'\n",
            " '246k' '73k' '658k' '992k' '253k' '420k' '404k' '1,000+' '470k' '226k'\n",
            " '240k' '89k' '234k' '257k' '861k' '467k' '157k' '44k' '676k' '67k' '552k'\n",
            " '885k' '1020k' '582k' '619k']\n"
          ]
        }
      ]
    },
    {
      "cell_type": "code",
      "source": [
        "# Supprime les lignes où les valeurs sont pas interprétables (1,000+ et Varies with device)\n",
        "df = df.drop(df[df[\"Size\"].str.contains('\\+', regex=True)].index)\n",
        "df = df.drop(df[df[\"Size\"].str.contains('Varies', regex=True)].index)\n",
        "print(df[\"Size\"].unique())\n",
        "df.info()"
      ],
      "metadata": {
        "colab": {
          "base_uri": "https://localhost:8080/"
        },
        "id": "KR4_40DG-BYT",
        "outputId": "f1cc9bc4-10c5-482a-a382-367e4e1445ca"
      },
      "execution_count": null,
      "outputs": [
        {
          "output_type": "stream",
          "name": "stdout",
          "text": [
            "['19M' '14M' '8.7M' '25M' '2.8M' '5.6M' '29M' '33M' '3.1M' '28M' '12M'\n",
            " '20M' '21M' '37M' '2.7M' '5.5M' '17M' '39M' '31M' '4.2M' '7.0M' '23M'\n",
            " '6.0M' '6.1M' '4.6M' '9.2M' '5.2M' '11M' '24M' '9.4M' '15M' '10M' '1.2M'\n",
            " '26M' '8.0M' '7.9M' '56M' '57M' '35M' '54M' '201k' '3.6M' '5.7M' '8.6M'\n",
            " '2.4M' '27M' '2.5M' '16M' '3.4M' '8.9M' '3.9M' '2.9M' '38M' '32M' '5.4M'\n",
            " '18M' '1.1M' '2.2M' '4.5M' '9.8M' '52M' '9.0M' '6.7M' '30M' '2.6M' '7.1M'\n",
            " '3.7M' '22M' '7.4M' '6.4M' '3.2M' '8.2M' '9.9M' '4.9M' '9.5M' '5.0M'\n",
            " '5.9M' '13M' '73M' '6.8M' '3.5M' '4.0M' '2.3M' '7.2M' '2.1M' '42M' '7.3M'\n",
            " '9.1M' '55M' '23k' '6.5M' '1.5M' '7.5M' '51M' '41M' '48M' '8.5M' '46M'\n",
            " '8.3M' '4.3M' '4.7M' '3.3M' '40M' '7.8M' '8.8M' '6.6M' '5.1M' '61M' '66M'\n",
            " '79k' '8.4M' '118k' '44M' '695k' '1.6M' '6.2M' '18k' '53M' '1.4M' '3.0M'\n",
            " '5.8M' '3.8M' '9.6M' '45M' '63M' '49M' '77M' '4.4M' '4.8M' '70M' '6.9M'\n",
            " '9.3M' '10.0M' '8.1M' '36M' '84M' '97M' '2.0M' '1.9M' '1.8M' '5.3M' '47M'\n",
            " '556k' '526k' '76M' '7.6M' '59M' '9.7M' '78M' '72M' '43M' '7.7M' '6.3M'\n",
            " '334k' '34M' '93M' '65M' '79M' '100M' '58M' '50M' '68M' '64M' '67M' '60M'\n",
            " '94M' '232k' '99M' '624k' '95M' '8.5k' '41k' '292k' '11k' '80M' '1.7M'\n",
            " '74M' '62M' '69M' '75M' '98M' '85M' '82M' '96M' '87M' '71M' '86M' '91M'\n",
            " '81M' '92M' '83M' '88M' '704k' '862k' '899k' '378k' '266k' '375k' '1.3M'\n",
            " '975k' '980k' '4.1M' '89M' '696k' '544k' '525k' '920k' '779k' '853k'\n",
            " '720k' '713k' '772k' '318k' '58k' '241k' '196k' '857k' '51k' '953k'\n",
            " '865k' '251k' '930k' '540k' '313k' '746k' '203k' '26k' '314k' '239k'\n",
            " '371k' '220k' '730k' '756k' '91k' '293k' '17k' '74k' '14k' '317k' '78k'\n",
            " '924k' '902k' '818k' '81k' '939k' '169k' '45k' '475k' '965k' '90M' '545k'\n",
            " '61k' '283k' '655k' '714k' '93k' '872k' '121k' '322k' '1.0M' '976k'\n",
            " '172k' '238k' '549k' '206k' '954k' '444k' '717k' '210k' '609k' '308k'\n",
            " '705k' '306k' '904k' '473k' '175k' '350k' '383k' '454k' '421k' '70k'\n",
            " '812k' '442k' '842k' '417k' '412k' '459k' '478k' '335k' '782k' '721k'\n",
            " '430k' '429k' '192k' '200k' '460k' '728k' '496k' '816k' '414k' '506k'\n",
            " '887k' '613k' '243k' '569k' '778k' '683k' '592k' '319k' '186k' '840k'\n",
            " '647k' '191k' '373k' '437k' '598k' '716k' '585k' '982k' '222k' '219k'\n",
            " '55k' '948k' '323k' '691k' '511k' '951k' '963k' '25k' '554k' '351k' '27k'\n",
            " '82k' '208k' '913k' '514k' '551k' '29k' '103k' '898k' '743k' '116k'\n",
            " '153k' '209k' '353k' '499k' '173k' '597k' '809k' '122k' '411k' '400k'\n",
            " '801k' '787k' '237k' '50k' '643k' '986k' '97k' '516k' '837k' '780k'\n",
            " '961k' '269k' '20k' '498k' '600k' '749k' '642k' '881k' '72k' '656k'\n",
            " '601k' '221k' '228k' '108k' '940k' '176k' '33k' '663k' '34k' '942k'\n",
            " '259k' '164k' '458k' '245k' '629k' '28k' '288k' '775k' '785k' '636k'\n",
            " '916k' '994k' '309k' '485k' '914k' '903k' '608k' '500k' '54k' '562k'\n",
            " '847k' '957k' '688k' '811k' '270k' '48k' '329k' '523k' '921k' '874k'\n",
            " '981k' '784k' '280k' '24k' '518k' '754k' '892k' '154k' '860k' '364k'\n",
            " '387k' '626k' '161k' '879k' '39k' '970k' '170k' '141k' '160k' '144k'\n",
            " '143k' '190k' '376k' '193k' '246k' '73k' '658k' '992k' '253k' '420k'\n",
            " '404k' '470k' '226k' '240k' '89k' '234k' '257k' '861k' '467k' '157k'\n",
            " '44k' '676k' '67k' '552k' '885k' '1020k' '582k' '619k']\n",
            "<class 'pandas.core.frame.DataFrame'>\n",
            "Int64Index: 9145 entries, 0 to 10840\n",
            "Data columns (total 13 columns):\n",
            " #   Column          Non-Null Count  Dtype  \n",
            "---  ------          --------------  -----  \n",
            " 0   App             9145 non-null   object \n",
            " 1   Category        9145 non-null   object \n",
            " 2   Rating          7729 non-null   float64\n",
            " 3   Reviews         9145 non-null   object \n",
            " 4   Size            9145 non-null   object \n",
            " 5   Installs        9145 non-null   object \n",
            " 6   Type            9145 non-null   object \n",
            " 7   Price           9145 non-null   object \n",
            " 8   Content Rating  9145 non-null   object \n",
            " 9   Genres          9145 non-null   object \n",
            " 10  Last Updated    9145 non-null   object \n",
            " 11  Current Ver     9137 non-null   object \n",
            " 12  Android Ver     9143 non-null   object \n",
            "dtypes: float64(1), object(12)\n",
            "memory usage: 1000.2+ KB\n"
          ]
        }
      ]
    },
    {
      "cell_type": "code",
      "source": [
        "df[\"Size\"] = df[\"Size\"].str.replace('M','000000')\n",
        "df[\"Size\"] = df[\"Size\"].str.replace('k', '000')\n",
        "print(df[\"Size\"].unique())"
      ],
      "metadata": {
        "colab": {
          "base_uri": "https://localhost:8080/"
        },
        "id": "eNzH4RVEwk1f",
        "outputId": "b3923513-e8e1-40cc-f842-47bd67a5f1e3"
      },
      "execution_count": null,
      "outputs": [
        {
          "output_type": "stream",
          "name": "stdout",
          "text": [
            "['19000000' '14000000' '8.7000000' '25000000' '2.8000000' '5.6000000'\n",
            " '29000000' '33000000' '3.1000000' '28000000' '12000000' '20000000'\n",
            " '21000000' '37000000' '2.7000000' '5.5000000' '17000000' '39000000'\n",
            " '31000000' '4.2000000' '7.0000000' '23000000' '6.0000000' '6.1000000'\n",
            " '4.6000000' '9.2000000' '5.2000000' '11000000' '24000000' '9.4000000'\n",
            " '15000000' '10000000' '1.2000000' '26000000' '8.0000000' '7.9000000'\n",
            " '56000000' '57000000' '35000000' '54000000' '201000' '3.6000000'\n",
            " '5.7000000' '8.6000000' '2.4000000' '27000000' '2.5000000' '16000000'\n",
            " '3.4000000' '8.9000000' '3.9000000' '2.9000000' '38000000' '32000000'\n",
            " '5.4000000' '18000000' '1.1000000' '2.2000000' '4.5000000' '9.8000000'\n",
            " '52000000' '9.0000000' '6.7000000' '30000000' '2.6000000' '7.1000000'\n",
            " '3.7000000' '22000000' '7.4000000' '6.4000000' '3.2000000' '8.2000000'\n",
            " '9.9000000' '4.9000000' '9.5000000' '5.0000000' '5.9000000' '13000000'\n",
            " '73000000' '6.8000000' '3.5000000' '4.0000000' '2.3000000' '7.2000000'\n",
            " '2.1000000' '42000000' '7.3000000' '9.1000000' '55000000' '23000'\n",
            " '6.5000000' '1.5000000' '7.5000000' '51000000' '41000000' '48000000'\n",
            " '8.5000000' '46000000' '8.3000000' '4.3000000' '4.7000000' '3.3000000'\n",
            " '40000000' '7.8000000' '8.8000000' '6.6000000' '5.1000000' '61000000'\n",
            " '66000000' '79000' '8.4000000' '118000' '44000000' '695000' '1.6000000'\n",
            " '6.2000000' '18000' '53000000' '1.4000000' '3.0000000' '5.8000000'\n",
            " '3.8000000' '9.6000000' '45000000' '63000000' '49000000' '77000000'\n",
            " '4.4000000' '4.8000000' '70000000' '6.9000000' '9.3000000' '10.0000000'\n",
            " '8.1000000' '36000000' '84000000' '97000000' '2.0000000' '1.9000000'\n",
            " '1.8000000' '5.3000000' '47000000' '556000' '526000' '76000000'\n",
            " '7.6000000' '59000000' '9.7000000' '78000000' '72000000' '43000000'\n",
            " '7.7000000' '6.3000000' '334000' '34000000' '93000000' '65000000'\n",
            " '79000000' '100000000' '58000000' '50000000' '68000000' '64000000'\n",
            " '67000000' '60000000' '94000000' '232000' '99000000' '624000' '95000000'\n",
            " '8.5000' '41000' '292000' '11000' '80000000' '1.7000000' '74000000'\n",
            " '62000000' '69000000' '75000000' '98000000' '85000000' '82000000'\n",
            " '96000000' '87000000' '71000000' '86000000' '91000000' '81000000'\n",
            " '92000000' '83000000' '88000000' '704000' '862000' '899000' '378000'\n",
            " '266000' '375000' '1.3000000' '975000' '980000' '4.1000000' '89000000'\n",
            " '696000' '544000' '525000' '920000' '779000' '853000' '720000' '713000'\n",
            " '772000' '318000' '58000' '241000' '196000' '857000' '51000' '953000'\n",
            " '865000' '251000' '930000' '540000' '313000' '746000' '203000' '26000'\n",
            " '314000' '239000' '371000' '220000' '730000' '756000' '91000' '293000'\n",
            " '17000' '74000' '14000' '317000' '78000' '924000' '902000' '818000'\n",
            " '81000' '939000' '169000' '45000' '475000' '965000' '90000000' '545000'\n",
            " '61000' '283000' '655000' '714000' '93000' '872000' '121000' '322000'\n",
            " '1.0000000' '976000' '172000' '238000' '549000' '206000' '954000'\n",
            " '444000' '717000' '210000' '609000' '308000' '705000' '306000' '904000'\n",
            " '473000' '175000' '350000' '383000' '454000' '421000' '70000' '812000'\n",
            " '442000' '842000' '417000' '412000' '459000' '478000' '335000' '782000'\n",
            " '721000' '430000' '429000' '192000' '200000' '460000' '728000' '496000'\n",
            " '816000' '414000' '506000' '887000' '613000' '243000' '569000' '778000'\n",
            " '683000' '592000' '319000' '186000' '840000' '647000' '191000' '373000'\n",
            " '437000' '598000' '716000' '585000' '982000' '222000' '219000' '55000'\n",
            " '948000' '323000' '691000' '511000' '951000' '963000' '25000' '554000'\n",
            " '351000' '27000' '82000' '208000' '913000' '514000' '551000' '29000'\n",
            " '103000' '898000' '743000' '116000' '153000' '209000' '353000' '499000'\n",
            " '173000' '597000' '809000' '122000' '411000' '400000' '801000' '787000'\n",
            " '237000' '50000' '643000' '986000' '97000' '516000' '837000' '780000'\n",
            " '961000' '269000' '20000' '498000' '600000' '749000' '642000' '881000'\n",
            " '72000' '656000' '601000' '221000' '228000' '108000' '940000' '176000'\n",
            " '33000' '663000' '34000' '942000' '259000' '164000' '458000' '245000'\n",
            " '629000' '28000' '288000' '775000' '785000' '636000' '916000' '994000'\n",
            " '309000' '485000' '914000' '903000' '608000' '500000' '54000' '562000'\n",
            " '847000' '957000' '688000' '811000' '270000' '48000' '329000' '523000'\n",
            " '921000' '874000' '981000' '784000' '280000' '24000' '518000' '754000'\n",
            " '892000' '154000' '860000' '364000' '387000' '626000' '161000' '879000'\n",
            " '39000' '970000' '170000' '141000' '160000' '144000' '143000' '190000'\n",
            " '376000' '193000' '246000' '73000' '658000' '992000' '253000' '420000'\n",
            " '404000' '470000' '226000' '240000' '89000' '234000' '257000' '861000'\n",
            " '467000' '157000' '44000' '676000' '67000' '552000' '885000' '1020000'\n",
            " '582000' '619000']\n"
          ]
        }
      ]
    },
    {
      "cell_type": "code",
      "source": [
        "df['Size'] = df['Size'].apply(lambda x: x[:-1] if '.' in x else x)\n",
        "df[\"Size\"] = df[\"Size\"].str.replace('.', '')\n",
        "print(df[\"Size\"].unique())\n"
      ],
      "metadata": {
        "colab": {
          "base_uri": "https://localhost:8080/"
        },
        "id": "8ra_7MfU8ovw",
        "outputId": "e7f1bb6a-62e5-416b-cac4-a15e53071e80"
      },
      "execution_count": null,
      "outputs": [
        {
          "output_type": "stream",
          "name": "stdout",
          "text": [
            "['19000000' '14000000' '8700000' '25000000' '2800000' '5600000' '29000000'\n",
            " '33000000' '3100000' '28000000' '12000000' '20000000' '21000000'\n",
            " '37000000' '2700000' '5500000' '17000000' '39000000' '31000000' '4200000'\n",
            " '7000000' '23000000' '6000000' '6100000' '4600000' '9200000' '5200000'\n",
            " '11000000' '24000000' '9400000' '15000000' '10000000' '1200000'\n",
            " '26000000' '8000000' '7900000' '56000000' '57000000' '35000000'\n",
            " '54000000' '201000' '3600000' '5700000' '8600000' '2400000' '27000000'\n",
            " '2500000' '16000000' '3400000' '8900000' '3900000' '2900000' '38000000'\n",
            " '32000000' '5400000' '18000000' '1100000' '2200000' '4500000' '9800000'\n",
            " '52000000' '9000000' '6700000' '30000000' '2600000' '7100000' '3700000'\n",
            " '22000000' '7400000' '6400000' '3200000' '8200000' '9900000' '4900000'\n",
            " '9500000' '5000000' '5900000' '13000000' '73000000' '6800000' '3500000'\n",
            " '4000000' '2300000' '7200000' '2100000' '42000000' '7300000' '9100000'\n",
            " '55000000' '23000' '6500000' '1500000' '7500000' '51000000' '41000000'\n",
            " '48000000' '8500000' '46000000' '8300000' '4300000' '4700000' '3300000'\n",
            " '40000000' '7800000' '8800000' '6600000' '5100000' '61000000' '66000000'\n",
            " '79000' '8400000' '118000' '44000000' '695000' '1600000' '6200000'\n",
            " '18000' '53000000' '1400000' '3000000' '5800000' '3800000' '9600000'\n",
            " '45000000' '63000000' '49000000' '77000000' '4400000' '4800000'\n",
            " '70000000' '6900000' '9300000' '8100000' '36000000' '84000000' '97000000'\n",
            " '2000000' '1900000' '1800000' '5300000' '47000000' '556000' '526000'\n",
            " '76000000' '7600000' '59000000' '9700000' '78000000' '72000000'\n",
            " '43000000' '7700000' '6300000' '334000' '34000000' '93000000' '65000000'\n",
            " '79000000' '100000000' '58000000' '50000000' '68000000' '64000000'\n",
            " '67000000' '60000000' '94000000' '232000' '99000000' '624000' '95000000'\n",
            " '8500' '41000' '292000' '11000' '80000000' '1700000' '74000000'\n",
            " '62000000' '69000000' '75000000' '98000000' '85000000' '82000000'\n",
            " '96000000' '87000000' '71000000' '86000000' '91000000' '81000000'\n",
            " '92000000' '83000000' '88000000' '704000' '862000' '899000' '378000'\n",
            " '266000' '375000' '1300000' '975000' '980000' '4100000' '89000000'\n",
            " '696000' '544000' '525000' '920000' '779000' '853000' '720000' '713000'\n",
            " '772000' '318000' '58000' '241000' '196000' '857000' '51000' '953000'\n",
            " '865000' '251000' '930000' '540000' '313000' '746000' '203000' '26000'\n",
            " '314000' '239000' '371000' '220000' '730000' '756000' '91000' '293000'\n",
            " '17000' '74000' '14000' '317000' '78000' '924000' '902000' '818000'\n",
            " '81000' '939000' '169000' '45000' '475000' '965000' '90000000' '545000'\n",
            " '61000' '283000' '655000' '714000' '93000' '872000' '121000' '322000'\n",
            " '1000000' '976000' '172000' '238000' '549000' '206000' '954000' '444000'\n",
            " '717000' '210000' '609000' '308000' '705000' '306000' '904000' '473000'\n",
            " '175000' '350000' '383000' '454000' '421000' '70000' '812000' '442000'\n",
            " '842000' '417000' '412000' '459000' '478000' '335000' '782000' '721000'\n",
            " '430000' '429000' '192000' '200000' '460000' '728000' '496000' '816000'\n",
            " '414000' '506000' '887000' '613000' '243000' '569000' '778000' '683000'\n",
            " '592000' '319000' '186000' '840000' '647000' '191000' '373000' '437000'\n",
            " '598000' '716000' '585000' '982000' '222000' '219000' '55000' '948000'\n",
            " '323000' '691000' '511000' '951000' '963000' '25000' '554000' '351000'\n",
            " '27000' '82000' '208000' '913000' '514000' '551000' '29000' '103000'\n",
            " '898000' '743000' '116000' '153000' '209000' '353000' '499000' '173000'\n",
            " '597000' '809000' '122000' '411000' '400000' '801000' '787000' '237000'\n",
            " '50000' '643000' '986000' '97000' '516000' '837000' '780000' '961000'\n",
            " '269000' '20000' '498000' '600000' '749000' '642000' '881000' '72000'\n",
            " '656000' '601000' '221000' '228000' '108000' '940000' '176000' '33000'\n",
            " '663000' '34000' '942000' '259000' '164000' '458000' '245000' '629000'\n",
            " '28000' '288000' '775000' '785000' '636000' '916000' '994000' '309000'\n",
            " '485000' '914000' '903000' '608000' '500000' '54000' '562000' '847000'\n",
            " '957000' '688000' '811000' '270000' '48000' '329000' '523000' '921000'\n",
            " '874000' '981000' '784000' '280000' '24000' '518000' '754000' '892000'\n",
            " '154000' '860000' '364000' '387000' '626000' '161000' '879000' '39000'\n",
            " '970000' '170000' '141000' '160000' '144000' '143000' '190000' '376000'\n",
            " '193000' '246000' '73000' '658000' '992000' '253000' '420000' '404000'\n",
            " '470000' '226000' '240000' '89000' '234000' '257000' '861000' '467000'\n",
            " '157000' '44000' '676000' '67000' '552000' '885000' '1020000' '582000'\n",
            " '619000']\n"
          ]
        },
        {
          "output_type": "stream",
          "name": "stderr",
          "text": [
            "<ipython-input-837-f7babc91d58b>:2: FutureWarning: The default value of regex will change from True to False in a future version. In addition, single character regular expressions will *not* be treated as literal strings when regex=True.\n",
            "  df[\"Size\"] = df[\"Size\"].str.replace('.', '')\n"
          ]
        }
      ]
    },
    {
      "cell_type": "code",
      "source": [
        "col_to_num(\"Size\")"
      ],
      "metadata": {
        "id": "_MhtpCf0v8y7",
        "colab": {
          "base_uri": "https://localhost:8080/"
        },
        "outputId": "cb9d578f-6e2a-4be4-be24-c60f82115312"
      },
      "execution_count": null,
      "outputs": [
        {
          "output_type": "stream",
          "name": "stdout",
          "text": [
            "0        19000000\n",
            "1        14000000\n",
            "2         8700000\n",
            "3        25000000\n",
            "4         2800000\n",
            "           ...   \n",
            "10835     9600000\n",
            "10836    53000000\n",
            "10837     3600000\n",
            "10838     9500000\n",
            "10840    19000000\n",
            "Name: Size, Length: 9145, dtype: int64\n"
          ]
        }
      ]
    },
    {
      "cell_type": "markdown",
      "source": [
        "#### Colonne \"Installs\""
      ],
      "metadata": {
        "id": "5ay0moVtvvqi"
      }
    },
    {
      "cell_type": "code",
      "source": [
        "df[\"Installs\"] = df[\"Installs\"].str.replace('+', '')\n",
        "df[\"Installs\"] = df[\"Installs\"].str.replace(',', '')"
      ],
      "metadata": {
        "id": "ywMdQzeOuCbD",
        "colab": {
          "base_uri": "https://localhost:8080/"
        },
        "outputId": "69df9aa9-8620-4908-b52f-ee3cac19e69e"
      },
      "execution_count": null,
      "outputs": [
        {
          "output_type": "stream",
          "name": "stderr",
          "text": [
            "<ipython-input-839-b040b1d5b663>:1: FutureWarning: The default value of regex will change from True to False in a future version. In addition, single character regular expressions will *not* be treated as literal strings when regex=True.\n",
            "  df[\"Installs\"] = df[\"Installs\"].str.replace('+', '')\n"
          ]
        }
      ]
    },
    {
      "cell_type": "code",
      "source": [
        "col_to_num(\"Installs\")"
      ],
      "metadata": {
        "id": "sjQGr0NrsqhR",
        "colab": {
          "base_uri": "https://localhost:8080/"
        },
        "outputId": "68209fc5-f658-4a68-c797-a5453d761fc6"
      },
      "execution_count": null,
      "outputs": [
        {
          "output_type": "stream",
          "name": "stdout",
          "text": [
            "0           10000\n",
            "1          500000\n",
            "2         5000000\n",
            "3        50000000\n",
            "4          100000\n",
            "           ...   \n",
            "10835          10\n",
            "10836        5000\n",
            "10837         100\n",
            "10838        1000\n",
            "10840    10000000\n",
            "Name: Installs, Length: 9145, dtype: int64\n"
          ]
        }
      ]
    },
    {
      "cell_type": "markdown",
      "source": [
        "#### Colonne \"Price\" (c'est quoi la donnée everyone ???)"
      ],
      "metadata": {
        "id": "Ns0Stq1By5H-"
      }
    },
    {
      "cell_type": "code",
      "source": [
        "df[\"Price\"] = df[\"Price\"].str.replace('$', '')\n",
        "print(df[\"Price\"].unique())"
      ],
      "metadata": {
        "id": "z4KSCnJ8zK1C",
        "colab": {
          "base_uri": "https://localhost:8080/"
        },
        "outputId": "a802d9ff-cc07-4d6f-c24f-65d2796237e8"
      },
      "execution_count": null,
      "outputs": [
        {
          "output_type": "stream",
          "name": "stdout",
          "text": [
            "['0' '4.99' '6.99' '1.49' '2.99' '3.99' '7.99' '5.99' '1.99' '9.99' '0.99'\n",
            " '9.00' '5.49' '10.00' '24.99' '11.99' '79.99' '16.99' '14.99' '1.00'\n",
            " '29.99' '12.99' '3.49' '10.99' '7.49' '1.50' '19.99' '15.99' '33.99'\n",
            " '74.99' '39.99' '2.49' '4.49' '1.70' '2.00' '3.88' '25.99' '399.99'\n",
            " '17.99' '400.00' '3.02' '1.76' '4.84' '4.77' '1.61' '1.59' '6.49' '1.29'\n",
            " '5.00' '13.99' '299.99' '379.99' '37.99' '18.99' '389.99' '19.90' '8.49'\n",
            " '1.75' '14.00' '4.85' '46.99' '109.99' '154.99' '3.08' '2.59' '4.80'\n",
            " '8.99' '1.96' '19.40' '15.46' '3.04' '4.29' '2.60' '3.28' '4.60' '28.99'\n",
            " '2.90' '1.97' '200.00' '89.99' '2.56' '30.99' '3.61' '394.99' '1.26'\n",
            " '1.20' '1.04']\n"
          ]
        },
        {
          "output_type": "stream",
          "name": "stderr",
          "text": [
            "<ipython-input-841-08613de77161>:1: FutureWarning: The default value of regex will change from True to False in a future version. In addition, single character regular expressions will *not* be treated as literal strings when regex=True.\n",
            "  df[\"Price\"] = df[\"Price\"].str.replace('$', '')\n"
          ]
        }
      ]
    },
    {
      "cell_type": "code",
      "source": [
        "col_to_num(\"Price\")"
      ],
      "metadata": {
        "id": "4f_TJ1ROzcoV",
        "colab": {
          "base_uri": "https://localhost:8080/"
        },
        "outputId": "3fa1a726-b763-442e-e6bb-6615460120b5"
      },
      "execution_count": null,
      "outputs": [
        {
          "output_type": "stream",
          "name": "stdout",
          "text": [
            "0        0.0\n",
            "1        0.0\n",
            "2        0.0\n",
            "3        0.0\n",
            "4        0.0\n",
            "        ... \n",
            "10835    0.0\n",
            "10836    0.0\n",
            "10837    0.0\n",
            "10838    0.0\n",
            "10840    0.0\n",
            "Name: Price, Length: 9145, dtype: float64\n"
          ]
        }
      ]
    },
    {
      "cell_type": "markdown",
      "source": [
        "#### Colonne \"Reviews\""
      ],
      "metadata": {
        "id": "1ilyMHs5BwWQ"
      }
    },
    {
      "cell_type": "code",
      "source": [
        "print(df[\"Reviews\"].unique())"
      ],
      "metadata": {
        "colab": {
          "base_uri": "https://localhost:8080/"
        },
        "id": "N2G7pGzvBz3C",
        "outputId": "04dd2f55-1576-42e0-bcdf-644989d17792"
      },
      "execution_count": null,
      "outputs": [
        {
          "output_type": "stream",
          "name": "stdout",
          "text": [
            "['159' '967' '87510' ... '603' '1195' '398307']\n"
          ]
        }
      ]
    },
    {
      "cell_type": "code",
      "source": [
        "col_to_num(\"Reviews\")"
      ],
      "metadata": {
        "colab": {
          "base_uri": "https://localhost:8080/"
        },
        "id": "swRGoYqBCAtN",
        "outputId": "cadce8a4-16ea-4890-dbfc-8b5d8fe8399a"
      },
      "execution_count": null,
      "outputs": [
        {
          "output_type": "stream",
          "name": "stdout",
          "text": [
            "0           159\n",
            "1           967\n",
            "2         87510\n",
            "3        215644\n",
            "4           967\n",
            "          ...  \n",
            "10835         0\n",
            "10836        38\n",
            "10837         4\n",
            "10838         3\n",
            "10840    398307\n",
            "Name: Reviews, Length: 9145, dtype: int64\n"
          ]
        }
      ]
    },
    {
      "cell_type": "code",
      "source": [
        "df.info()"
      ],
      "metadata": {
        "id": "IzOaR9N1zoHy",
        "colab": {
          "base_uri": "https://localhost:8080/"
        },
        "outputId": "2c5f62ea-2e90-4eb3-d834-ba110e393a49"
      },
      "execution_count": null,
      "outputs": [
        {
          "output_type": "stream",
          "name": "stdout",
          "text": [
            "<class 'pandas.core.frame.DataFrame'>\n",
            "Int64Index: 9145 entries, 0 to 10840\n",
            "Data columns (total 13 columns):\n",
            " #   Column          Non-Null Count  Dtype  \n",
            "---  ------          --------------  -----  \n",
            " 0   App             9145 non-null   object \n",
            " 1   Category        9145 non-null   object \n",
            " 2   Rating          7729 non-null   float64\n",
            " 3   Reviews         9145 non-null   int64  \n",
            " 4   Size            9145 non-null   int64  \n",
            " 5   Installs        9145 non-null   int64  \n",
            " 6   Type            9145 non-null   object \n",
            " 7   Price           9145 non-null   float64\n",
            " 8   Content Rating  9145 non-null   object \n",
            " 9   Genres          9145 non-null   object \n",
            " 10  Last Updated    9145 non-null   object \n",
            " 11  Current Ver     9137 non-null   object \n",
            " 12  Android Ver     9143 non-null   object \n",
            "dtypes: float64(2), int64(3), object(8)\n",
            "memory usage: 1000.2+ KB\n"
          ]
        }
      ]
    },
    {
      "cell_type": "markdown",
      "source": [
        "### Enum"
      ],
      "metadata": {
        "id": "ReRyxSmG_QJp"
      }
    },
    {
      "cell_type": "code",
      "source": [
        "def dict_from_cat(col):\n",
        "  return {valeur_unique: indice for indice, valeur_unique in enumerate(df[col].unique())}"
      ],
      "metadata": {
        "id": "yBsYanqS_R0_"
      },
      "execution_count": null,
      "outputs": []
    },
    {
      "cell_type": "code",
      "source": [
        "def dict_to_float(col, dictionary):\n",
        "  df[col] = df[col].map(dictionary)\n",
        "  col_to_num(col)"
      ],
      "metadata": {
        "id": "AAjvm7zL_v82"
      },
      "execution_count": null,
      "outputs": []
    },
    {
      "cell_type": "markdown",
      "source": [
        "#### Colonne \"Category\""
      ],
      "metadata": {
        "id": "dYLvAbWU0ATz"
      }
    },
    {
      "cell_type": "code",
      "source": [
        "df[\"Category\"].unique()"
      ],
      "metadata": {
        "id": "iMdhx4Vs0Do8",
        "colab": {
          "base_uri": "https://localhost:8080/"
        },
        "outputId": "dce8dd02-cf07-4a6a-8baf-503675261bcf"
      },
      "execution_count": null,
      "outputs": [
        {
          "output_type": "execute_result",
          "data": {
            "text/plain": [
              "array(['ART_AND_DESIGN', 'AUTO_AND_VEHICLES', 'BEAUTY',\n",
              "       'BOOKS_AND_REFERENCE', 'BUSINESS', 'COMICS', 'COMMUNICATION',\n",
              "       'DATING', 'EDUCATION', 'ENTERTAINMENT', 'EVENTS', 'FINANCE',\n",
              "       'FOOD_AND_DRINK', 'HEALTH_AND_FITNESS', 'HOUSE_AND_HOME',\n",
              "       'LIBRARIES_AND_DEMO', 'LIFESTYLE', 'GAME', 'FAMILY', 'MEDICAL',\n",
              "       'SOCIAL', 'SHOPPING', 'PHOTOGRAPHY', 'SPORTS', 'TRAVEL_AND_LOCAL',\n",
              "       'TOOLS', 'PERSONALIZATION', 'PRODUCTIVITY', 'PARENTING', 'WEATHER',\n",
              "       'VIDEO_PLAYERS', 'NEWS_AND_MAGAZINES', 'MAPS_AND_NAVIGATION'],\n",
              "      dtype=object)"
            ]
          },
          "metadata": {},
          "execution_count": 848
        }
      ]
    },
    {
      "cell_type": "code",
      "source": [
        "len(df[\"Category\"].unique())"
      ],
      "metadata": {
        "id": "P0mDB7_01VjJ",
        "colab": {
          "base_uri": "https://localhost:8080/"
        },
        "outputId": "59579863-8a20-43b3-a771-31e16077b339"
      },
      "execution_count": null,
      "outputs": [
        {
          "output_type": "execute_result",
          "data": {
            "text/plain": [
              "33"
            ]
          },
          "metadata": {},
          "execution_count": 849
        }
      ]
    },
    {
      "cell_type": "code",
      "source": [
        "dict_category = dict_from_cat(\"Category\")\n",
        "dict_to_float(\"Category\", dict_category)"
      ],
      "metadata": {
        "colab": {
          "base_uri": "https://localhost:8080/"
        },
        "id": "0a2Jgx5w1noq",
        "outputId": "f844e117-e86c-4ce0-a35a-6ddb9741040c"
      },
      "execution_count": null,
      "outputs": [
        {
          "output_type": "stream",
          "name": "stdout",
          "text": [
            "0         0\n",
            "1         0\n",
            "2         0\n",
            "3         0\n",
            "4         0\n",
            "         ..\n",
            "10835     4\n",
            "10836    18\n",
            "10837    18\n",
            "10838    19\n",
            "10840    16\n",
            "Name: Category, Length: 9145, dtype: int64\n"
          ]
        }
      ]
    },
    {
      "cell_type": "markdown",
      "source": [
        "#### Colonne \"Content Rating\""
      ],
      "metadata": {
        "id": "Xd1dmnKrCiRV"
      }
    },
    {
      "cell_type": "code",
      "source": [
        "df[\"Content Rating\"].unique()"
      ],
      "metadata": {
        "colab": {
          "base_uri": "https://localhost:8080/"
        },
        "id": "5zWi_71CCu5y",
        "outputId": "b38b010c-603e-407b-d2e2-90524d942271"
      },
      "execution_count": null,
      "outputs": [
        {
          "output_type": "execute_result",
          "data": {
            "text/plain": [
              "array(['Everyone', 'Teen', 'Everyone 10+', 'Mature 17+',\n",
              "       'Adults only 18+', 'Unrated'], dtype=object)"
            ]
          },
          "metadata": {},
          "execution_count": 851
        }
      ]
    },
    {
      "cell_type": "code",
      "source": [
        "dict_contentRating = dict_from_cat(\"Content Rating\")\n",
        "dict_to_float(\"Content Rating\", dict_contentRating)"
      ],
      "metadata": {
        "colab": {
          "base_uri": "https://localhost:8080/"
        },
        "id": "IdBHx1o0CmKR",
        "outputId": "05cf999a-bd42-4e91-99e7-46eea653ab5d"
      },
      "execution_count": null,
      "outputs": [
        {
          "output_type": "stream",
          "name": "stdout",
          "text": [
            "0        0\n",
            "1        0\n",
            "2        0\n",
            "3        1\n",
            "4        0\n",
            "        ..\n",
            "10835    0\n",
            "10836    0\n",
            "10837    0\n",
            "10838    0\n",
            "10840    0\n",
            "Name: Content Rating, Length: 9145, dtype: int64\n"
          ]
        }
      ]
    },
    {
      "cell_type": "code",
      "source": [
        "df[\"Content Rating\"].unique()"
      ],
      "metadata": {
        "colab": {
          "base_uri": "https://localhost:8080/"
        },
        "id": "OLFfNBHaDIB_",
        "outputId": "c4c2eb1a-c17d-4fed-8b2e-5afc4b9e1b41"
      },
      "execution_count": null,
      "outputs": [
        {
          "output_type": "execute_result",
          "data": {
            "text/plain": [
              "array([0, 1, 2, 3, 4, 5])"
            ]
          },
          "metadata": {},
          "execution_count": 853
        }
      ]
    },
    {
      "cell_type": "markdown",
      "source": [
        "#### Colonne \"Genres\"\n",
        "Probleme, cette colonne contient plusieurs infos, on va donc la split en 2 colonnes avant de la passée en valeurs numériques"
      ],
      "metadata": {
        "id": "sAcbHRjpHV93"
      }
    },
    {
      "cell_type": "code",
      "source": [
        "df[[\"Genres\", \"GenreSecondaire\"]] = df[\"Genres\"].str.split(\";\", expand=True)\n",
        "df = df.rename(columns={\"Genres\" : \"GenrePrincipal\"})\n",
        "df[\"GenreSecondaire\"]"
      ],
      "metadata": {
        "colab": {
          "base_uri": "https://localhost:8080/"
        },
        "id": "Ox9jrzzZHgdd",
        "outputId": "16ff550b-24f7-48e1-9aa5-8b6a8b875200"
      },
      "execution_count": null,
      "outputs": [
        {
          "output_type": "execute_result",
          "data": {
            "text/plain": [
              "0                None\n",
              "1        Pretend Play\n",
              "2                None\n",
              "3                None\n",
              "4          Creativity\n",
              "             ...     \n",
              "10835            None\n",
              "10836            None\n",
              "10837            None\n",
              "10838            None\n",
              "10840            None\n",
              "Name: GenreSecondaire, Length: 9145, dtype: object"
            ]
          },
          "metadata": {},
          "execution_count": 854
        }
      ]
    },
    {
      "cell_type": "markdown",
      "source": [
        "##### Genre Principal"
      ],
      "metadata": {
        "id": "MNlInveBIR8X"
      }
    },
    {
      "cell_type": "code",
      "source": [
        "dict_genrePrincipal = dict_from_cat(\"GenrePrincipal\")\n",
        "dict_to_float(\"GenrePrincipal\", dict_genrePrincipal)"
      ],
      "metadata": {
        "colab": {
          "base_uri": "https://localhost:8080/"
        },
        "id": "pDSniXbEH1qH",
        "outputId": "ebebe816-eb89-4dda-e7c0-dd016bfd8cad"
      },
      "execution_count": null,
      "outputs": [
        {
          "output_type": "stream",
          "name": "stdout",
          "text": [
            "0         0\n",
            "1         0\n",
            "2         0\n",
            "3         0\n",
            "4         0\n",
            "         ..\n",
            "10835     4\n",
            "10836     8\n",
            "10837     8\n",
            "10838    35\n",
            "10840    16\n",
            "Name: GenrePrincipal, Length: 9145, dtype: int64\n"
          ]
        }
      ]
    },
    {
      "cell_type": "markdown",
      "source": [
        "##### Genre secondaire"
      ],
      "metadata": {
        "id": "yok2kdbKIUvn"
      }
    },
    {
      "cell_type": "code",
      "source": [
        "dict_genreSecondaire = dict_from_cat(\"GenreSecondaire\")\n",
        "dict_to_float(\"GenreSecondaire\", dict_genreSecondaire)"
      ],
      "metadata": {
        "colab": {
          "base_uri": "https://localhost:8080/"
        },
        "id": "lKMqNoRJIQmy",
        "outputId": "3fbcf189-1d05-418d-9ceb-1e9d412f149d"
      },
      "execution_count": null,
      "outputs": [
        {
          "output_type": "stream",
          "name": "stdout",
          "text": [
            "0        0\n",
            "1        1\n",
            "2        0\n",
            "3        0\n",
            "4        2\n",
            "        ..\n",
            "10835    0\n",
            "10836    0\n",
            "10837    0\n",
            "10838    0\n",
            "10840    0\n",
            "Name: GenreSecondaire, Length: 9145, dtype: int64\n"
          ]
        }
      ]
    },
    {
      "cell_type": "markdown",
      "source": [
        "### Conversion colonne date"
      ],
      "metadata": {
        "id": "3UjaV-_wJTnA"
      }
    },
    {
      "cell_type": "code",
      "source": [
        "#df['Last Updated'] = df['Last Updated'].str.replace(' [0-9]+,', '', regex=True)\n",
        "df[\"Last Updated\"].unique()\n",
        "df[\"Last Updated\"] = df[\"Last Updated\"].replace('1.0.19', 'NaN')\n",
        "df['Last Updated'] = pd.to_datetime(df['Last Updated'], format='%B %d, %Y')\n",
        "df[\"Last Updated\"].dt.date"
      ],
      "metadata": {
        "colab": {
          "base_uri": "https://localhost:8080/"
        },
        "id": "AQ4bFnuVJXI-",
        "outputId": "069de361-5a23-4ddd-ccc9-6f56328c08f0"
      },
      "execution_count": null,
      "outputs": [
        {
          "output_type": "execute_result",
          "data": {
            "text/plain": [
              "0        2018-01-07\n",
              "1        2018-01-15\n",
              "2        2018-08-01\n",
              "3        2018-06-08\n",
              "4        2018-06-20\n",
              "            ...    \n",
              "10835    2016-09-29\n",
              "10836    2017-07-25\n",
              "10837    2018-07-06\n",
              "10838    2017-01-20\n",
              "10840    2018-07-25\n",
              "Name: Last Updated, Length: 9145, dtype: object"
            ]
          },
          "metadata": {},
          "execution_count": 857
        }
      ]
    },
    {
      "cell_type": "markdown",
      "source": [
        "### Colonnes abandonnées"
      ],
      "metadata": {
        "id": "wDdYx_EdCXJP"
      }
    },
    {
      "cell_type": "code",
      "source": [
        "#df = df.drop(columns=[\"color\", \"type\", \"condition\"])\n",
        "df = df.drop(columns=[\"Type\"])\n",
        "df.info()"
      ],
      "metadata": {
        "id": "vr40AaotFjGx",
        "colab": {
          "base_uri": "https://localhost:8080/"
        },
        "outputId": "464edfd6-14a4-4d8d-b500-2fb43ecd4f57"
      },
      "execution_count": null,
      "outputs": [
        {
          "output_type": "stream",
          "name": "stdout",
          "text": [
            "<class 'pandas.core.frame.DataFrame'>\n",
            "Int64Index: 9145 entries, 0 to 10840\n",
            "Data columns (total 13 columns):\n",
            " #   Column           Non-Null Count  Dtype         \n",
            "---  ------           --------------  -----         \n",
            " 0   App              9145 non-null   object        \n",
            " 1   Category         9145 non-null   int64         \n",
            " 2   Rating           7729 non-null   float64       \n",
            " 3   Reviews          9145 non-null   int64         \n",
            " 4   Size             9145 non-null   int64         \n",
            " 5   Installs         9145 non-null   int64         \n",
            " 6   Price            9145 non-null   float64       \n",
            " 7   Content Rating   9145 non-null   int64         \n",
            " 8   GenrePrincipal   9145 non-null   int64         \n",
            " 9   Last Updated     9145 non-null   datetime64[ns]\n",
            " 10  Current Ver      9137 non-null   object        \n",
            " 11  Android Ver      9143 non-null   object        \n",
            " 12  GenreSecondaire  9145 non-null   int64         \n",
            "dtypes: datetime64[ns](1), float64(2), int64(7), object(3)\n",
            "memory usage: 1000.2+ KB\n"
          ]
        }
      ]
    },
    {
      "cell_type": "markdown",
      "source": [
        "#### Colonne \"Type\""
      ],
      "metadata": {
        "id": "KJZjTU5DBeYl"
      }
    },
    {
      "cell_type": "markdown",
      "source": [
        "La colonne \"Prix\" nous donne déjà l'infomation si le produit est gratuit ou non."
      ],
      "metadata": {
        "id": "DoCg3xCsCZkt"
      }
    },
    {
      "cell_type": "markdown",
      "source": [
        "#### Colonne \"Current Ver\""
      ],
      "metadata": {
        "id": "UbZM_zP8IuFH"
      }
    },
    {
      "cell_type": "markdown",
      "source": [
        "Un peu inutile, dépend des applications."
      ],
      "metadata": {
        "id": "107JL4zEI16p"
      }
    }
  ]
}